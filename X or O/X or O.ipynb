{
 "cells": [
  {
   "cell_type": "code",
   "execution_count": null,
   "id": "0548ebac",
   "metadata": {},
   "outputs": [],
   "source": [
    "a=10"
   ]
  },
  {
   "cell_type": "code",
   "execution_count": null,
   "id": "e4e8f669",
   "metadata": {},
   "outputs": [],
   "source": [
    "a"
   ]
  },
  {
   "cell_type": "code",
   "execution_count": null,
   "id": "ad8e541b",
   "metadata": {},
   "outputs": [],
   "source": [
    "a+a"
   ]
  },
  {
   "cell_type": "code",
   "execution_count": null,
   "id": "944224df",
   "metadata": {},
   "outputs": [],
   "source": [
    "a=a+a"
   ]
  },
  {
   "cell_type": "code",
   "execution_count": null,
   "id": "59428b11",
   "metadata": {},
   "outputs": [],
   "source": [
    "a"
   ]
  },
  {
   "cell_type": "code",
   "execution_count": null,
   "id": "8aa15d24",
   "metadata": {},
   "outputs": [],
   "source": [
    "a"
   ]
  },
  {
   "cell_type": "code",
   "execution_count": null,
   "id": "9f8998d6",
   "metadata": {},
   "outputs": [],
   "source": [
    "\n"
   ]
  },
  {
   "cell_type": "code",
   "execution_count": null,
   "id": "d8f9fa31",
   "metadata": {},
   "outputs": [],
   "source": [
    "a=a+a"
   ]
  },
  {
   "cell_type": "code",
   "execution_count": null,
   "id": "fd445f00",
   "metadata": {},
   "outputs": [],
   "source": [
    "a"
   ]
  },
  {
   "cell_type": "code",
   "execution_count": null,
   "id": "f4d76f79",
   "metadata": {},
   "outputs": [],
   "source": [
    "a=a+a"
   ]
  },
  {
   "cell_type": "code",
   "execution_count": null,
   "id": "bc668198",
   "metadata": {},
   "outputs": [],
   "source": [
    "a"
   ]
  },
  {
   "cell_type": "code",
   "execution_count": null,
   "id": "d27b25db",
   "metadata": {},
   "outputs": [],
   "source": [
    "type(a)"
   ]
  },
  {
   "cell_type": "code",
   "execution_count": null,
   "id": "18331b0e",
   "metadata": {},
   "outputs": [],
   "source": [
    "a=\"ad\""
   ]
  },
  {
   "cell_type": "code",
   "execution_count": null,
   "id": "9ab70e84",
   "metadata": {},
   "outputs": [],
   "source": [
    "type(a)"
   ]
  },
  {
   "cell_type": "code",
   "execution_count": 1,
   "id": "08eb2e01",
   "metadata": {},
   "outputs": [],
   "source": [
    "from IPython.display import clear_output\n",
    "\n",
    "def display_board(board):\n",
    " clear_output()\n",
    " print(\"\"+board[7]+\" | \"+board[8]+\" | \"+board[9])\n",
    " print(\"\"+board[4]+\" | \"+board[5]+\" | \"+board[6])\n",
    " print(\"\"+board[1]+\" | \"+board[2]+\" | \"+board[3])\n",
    " "
   ]
  },
  {
   "cell_type": "code",
   "execution_count": 2,
   "id": "d4e76b3a",
   "metadata": {},
   "outputs": [
    {
     "name": "stdout",
     "output_type": "stream",
     "text": [
      "o | x | x\n",
      "0 | x | o\n",
      "x | o | x\n"
     ]
    }
   ],
   "source": [
    "list=['#','x','o','x','0','x','o','o','x','x']\n",
    "display_board(list)"
   ]
  },
  {
   "cell_type": "code",
   "execution_count": 3,
   "id": "40155fb0",
   "metadata": {},
   "outputs": [],
   "source": [
    "def player_input():\n",
    "    marker=\"\"\n",
    "    while not (marker==\"X\"or marker==\"O\"):\n",
    "        marker=input(\"player 1: what is your choice:\").upper()\n",
    "    \n",
    "    if marker=='X':\n",
    "        return('X','O')\n",
    "    \n",
    "    else:\n",
    "        return('O','X')\n",
    "    "
   ]
  },
  {
   "cell_type": "code",
   "execution_count": 3,
   "id": "5b339336",
   "metadata": {},
   "outputs": [
    {
     "name": "stdout",
     "output_type": "stream",
     "text": [
      "player 1: what is your choice:X\n"
     ]
    },
    {
     "data": {
      "text/plain": [
       "('X', 'O')"
      ]
     },
     "execution_count": 3,
     "metadata": {},
     "output_type": "execute_result"
    }
   ],
   "source": [
    "player_input()"
   ]
  },
  {
   "cell_type": "code",
   "execution_count": 4,
   "id": "c4c6686e",
   "metadata": {},
   "outputs": [],
   "source": [
    "def place_marker(board,marker,position):\n",
    "    board[position]=marker"
   ]
  },
  {
   "cell_type": "code",
   "execution_count": 5,
   "id": "e407ba36",
   "metadata": {},
   "outputs": [],
   "source": [
    "def win_check(board,mark):\n",
    "    \n",
    "    return ((board[7] == mark and board[8] == mark and board[9] == mark) or # across the top\n",
    "    (board[4] == mark and board[5] == mark and board[6] == mark) or # across the middle\n",
    "    (board[1] == mark and board[2] == mark and board[3] == mark) or # across the bottom\n",
    "    (board[7] == mark and board[4] == mark and board[1] == mark) or # down the middle\n",
    "    (board[8] == mark and board[5] == mark and board[2] == mark) or # down the middle\n",
    "    (board[9] == mark and board[6] == mark and board[3] == mark) or # down the right side\n",
    "    (board[7] == mark and board[5] == mark and board[3] == mark) or # diagonal\n",
    "    (board[9] == mark and board[5] == mark and board[1] == mark)) # diagonal"
   ]
  },
  {
   "cell_type": "code",
   "execution_count": 6,
   "id": "5768dd37",
   "metadata": {},
   "outputs": [],
   "source": [
    "import random\n",
    "def choose_first():\n",
    "    if random.randint(0,1)==0:\n",
    "        return 'Player 2'\n",
    "    else:\n",
    "        return 'Player 1'"
   ]
  },
  {
   "cell_type": "code",
   "execution_count": 7,
   "id": "b91176eb",
   "metadata": {},
   "outputs": [],
   "source": [
    "def space_check(board,position):\n",
    "    return board[position]==''"
   ]
  },
  {
   "cell_type": "code",
   "execution_count": 17,
   "id": "a8197fda",
   "metadata": {},
   "outputs": [],
   "source": [
    "def full_space(board):\n",
    "    for i in range(1,10):\n",
    "        if space_check(board ,i):\n",
    "            return False\n",
    "    return True\n",
    "    "
   ]
  },
  {
   "cell_type": "code",
   "execution_count": 9,
   "id": "9c105ae4",
   "metadata": {},
   "outputs": [],
   "source": [
    "def player_choice(board):\n",
    "    position=0\n",
    "    while position not in [1,2,3,4,5,6,7,8,9] or not space_check(board,position):\n",
    "        position=int(input(\"choose your next position:(1-9):\"))\n",
    "    return position"
   ]
  },
  {
   "cell_type": "code",
   "execution_count": 10,
   "id": "ecbd65c1",
   "metadata": {},
   "outputs": [],
   "source": [
    "def replay():\n",
    "    return input(\"do you what play again??\").lower().startswith('y')"
   ]
  },
  {
   "cell_type": "code",
   "execution_count": 19,
   "id": "a7430c1a",
   "metadata": {},
   "outputs": [
    {
     "name": "stdout",
     "output_type": "stream",
     "text": [
      "X | O | O\n",
      "O | O | X\n",
      "X | X | O\n",
      "The game is a draw!\n",
      "do you what play again??Y\n",
      "player 1: what is your choice:X\n",
      "Player 2will go turn\n",
      "are you ready to play:N\n",
      "do you what play again??N\n"
     ]
    }
   ],
   "source": [
    "print('welcome to my tic-tac game')\n",
    "\n",
    "while True:\n",
    "    theboard=['']*10\n",
    "    player_1,player_2=player_input()\n",
    "    turn=choose_first()\n",
    "    print(turn +\"will go turn\")\n",
    "    \n",
    "    play_game=input(\"are you ready to play:\")\n",
    "    \n",
    "    if play_game.lower()[0]=='y':\n",
    "        game_on=True\n",
    "    else:\n",
    "        game_on=False\n",
    "    \n",
    "    while game_on:\n",
    "        if turn==\"Player 1\":\n",
    "            display_board(theboard)\n",
    "            position=player_choice(theboard)\n",
    "            place_marker(theboard,player_1,position)\n",
    "            \n",
    "            if win_check(theboard,player_1):\n",
    "                display_board(theboard)\n",
    "                print(\"congratulation player 1\")\n",
    "                game_on=False\n",
    "            else:\n",
    "                if full_space(theboard):\n",
    "                    display_board(theboard)\n",
    "                    print('The game is a draw!')\n",
    "                    break\n",
    "                else:\n",
    "                    turn = 'Player 2'\n",
    "\n",
    "        else:\n",
    "            display_board(theboard)\n",
    "            position=player_choice(theboard)\n",
    "            place_marker(theboard,player_2,position)\n",
    "            \n",
    "            if win_check(theboard,player_2):\n",
    "                display_board(theboard)\n",
    "                print(\"congratulation player 2\")\n",
    "                game_on=False\n",
    "            else:\n",
    "                if full_space(theboard):\n",
    "                    display_board(theboard)\n",
    "                    print('The game is a draw!')\n",
    "                    break\n",
    "                else:\n",
    "                    turn = 'Player 1' \n",
    "\n",
    "            \n",
    "            \n",
    "    if not replay():\n",
    "        break"
   ]
  },
  {
   "cell_type": "code",
   "execution_count": 21,
   "id": "39c7c6f7",
   "metadata": {},
   "outputs": [
    {
     "name": "stdout",
     "output_type": "stream",
     "text": [
      "number is not valid!\n"
     ]
    }
   ],
   "source": [
    "try:\n",
    "    for i in [a,b,c]:\n",
    "        print(i*2)\n",
    "except:\n",
    "    print(\"number is not valid!\")\n"
   ]
  },
  {
   "cell_type": "code",
   "execution_count": 23,
   "id": "f27e9b75",
   "metadata": {},
   "outputs": [
    {
     "name": "stdout",
     "output_type": "stream",
     "text": [
      "1.25\n",
      "all step is done\n"
     ]
    }
   ],
   "source": [
    "x=5\n",
    "y=4\n",
    "try:\n",
    "    print(x/y)\n",
    "except:\n",
    "    print(\"y is not zero\")\n",
    "finally:\n",
    "    print(\"all step is done\")"
   ]
  },
  {
   "cell_type": "code",
   "execution_count": 31,
   "id": "88ca00d9",
   "metadata": {},
   "outputs": [
    {
     "name": "stdout",
     "output_type": "stream",
     "text": [
      "enter num1 :\n",
      "number is not valid\n"
     ]
    }
   ],
   "source": [
    "def squre(num1):\n",
    "    print((num1)**2)\n",
    "try:\n",
    "    num1=int(input(\"enter num1 :\"))\n",
    "    squre(num1)\n",
    "except:\n",
    "    print(\"number is not valid\")"
   ]
  },
  {
   "cell_type": "code",
   "execution_count": 39,
   "id": "b1264030",
   "metadata": {},
   "outputs": [],
   "source": [
    "def ask():\n",
    "    while True:\n",
    "        try:\n",
    "            n=int(input(\"enter number:\"))\n",
    "        except:\n",
    "            print(\"try again!\")\n",
    "            continue\n",
    "        else:\n",
    "            break\n",
    "#     print(\"hellow\")\n",
    "    print(n**2)"
   ]
  },
  {
   "cell_type": "code",
   "execution_count": 41,
   "id": "463b51d1",
   "metadata": {},
   "outputs": [
    {
     "name": "stdout",
     "output_type": "stream",
     "text": [
      "enter number:\n",
      "try again!\n",
      "enter number:asde\n",
      "try again!\n",
      "enter number:vcb\n",
      "try again!\n",
      "enter number:54\n",
      "2916\n"
     ]
    }
   ],
   "source": [
    "ask()"
   ]
  },
  {
   "cell_type": "code",
   "execution_count": null,
   "id": "82b506f6",
   "metadata": {},
   "outputs": [],
   "source": []
  }
 ],
 "metadata": {
  "kernelspec": {
   "display_name": "Python 3 (ipykernel)",
   "language": "python",
   "name": "python3"
  },
  "language_info": {
   "codemirror_mode": {
    "name": "ipython",
    "version": 3
   },
   "file_extension": ".py",
   "mimetype": "text/x-python",
   "name": "python",
   "nbconvert_exporter": "python",
   "pygments_lexer": "ipython3",
   "version": "3.10.9"
  }
 },
 "nbformat": 4,
 "nbformat_minor": 5
}
